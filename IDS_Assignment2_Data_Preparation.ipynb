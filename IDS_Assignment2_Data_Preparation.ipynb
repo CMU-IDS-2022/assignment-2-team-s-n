{
 "cells": [
  {
   "cell_type": "code",
   "execution_count": 1,
   "id": "33e1a4d4",
   "metadata": {},
   "outputs": [],
   "source": [
    "import pandas as pd"
   ]
  },
  {
   "cell_type": "code",
   "execution_count": 2,
   "id": "fb156ea3",
   "metadata": {},
   "outputs": [],
   "source": [
    "df = pd.read_csv(\"Crimes_-_2001_to_Present.csv\")"
   ]
  },
  {
   "cell_type": "code",
   "execution_count": 3,
   "id": "00cfc028",
   "metadata": {},
   "outputs": [
    {
     "data": {
      "text/html": [
       "<div>\n",
       "<style scoped>\n",
       "    .dataframe tbody tr th:only-of-type {\n",
       "        vertical-align: middle;\n",
       "    }\n",
       "\n",
       "    .dataframe tbody tr th {\n",
       "        vertical-align: top;\n",
       "    }\n",
       "\n",
       "    .dataframe thead th {\n",
       "        text-align: right;\n",
       "    }\n",
       "</style>\n",
       "<table border=\"1\" class=\"dataframe\">\n",
       "  <thead>\n",
       "    <tr style=\"text-align: right;\">\n",
       "      <th></th>\n",
       "      <th>ID</th>\n",
       "      <th>Case Number</th>\n",
       "      <th>Date</th>\n",
       "      <th>Block</th>\n",
       "      <th>IUCR</th>\n",
       "      <th>Primary Type</th>\n",
       "      <th>Description</th>\n",
       "      <th>Location Description</th>\n",
       "      <th>Arrest</th>\n",
       "      <th>Domestic</th>\n",
       "      <th>...</th>\n",
       "      <th>Longitude</th>\n",
       "      <th>Location</th>\n",
       "      <th>Historical Wards 2003-2015</th>\n",
       "      <th>Zip Codes</th>\n",
       "      <th>Community Areas</th>\n",
       "      <th>Census Tracts</th>\n",
       "      <th>Wards</th>\n",
       "      <th>Boundaries - ZIP Codes</th>\n",
       "      <th>Police Districts</th>\n",
       "      <th>Police Beats</th>\n",
       "    </tr>\n",
       "  </thead>\n",
       "  <tbody>\n",
       "    <tr>\n",
       "      <th>0</th>\n",
       "      <td>10224738</td>\n",
       "      <td>HY411648</td>\n",
       "      <td>09-05-2015 13:30</td>\n",
       "      <td>043XX S WOOD ST</td>\n",
       "      <td>486</td>\n",
       "      <td>BATTERY</td>\n",
       "      <td>DOMESTIC BATTERY SIMPLE</td>\n",
       "      <td>RESIDENCE</td>\n",
       "      <td>False</td>\n",
       "      <td>True</td>\n",
       "      <td>...</td>\n",
       "      <td>-87.670000</td>\n",
       "      <td>(41.815117282, -87.669999562)</td>\n",
       "      <td>29.0</td>\n",
       "      <td>14924.0</td>\n",
       "      <td>59.0</td>\n",
       "      <td>706.0</td>\n",
       "      <td>3.0</td>\n",
       "      <td>37.0</td>\n",
       "      <td>23.0</td>\n",
       "      <td>108.0</td>\n",
       "    </tr>\n",
       "    <tr>\n",
       "      <th>1</th>\n",
       "      <td>10224739</td>\n",
       "      <td>HY411615</td>\n",
       "      <td>09-04-2015 11:30</td>\n",
       "      <td>008XX N CENTRAL AVE</td>\n",
       "      <td>870</td>\n",
       "      <td>THEFT</td>\n",
       "      <td>POCKET-PICKING</td>\n",
       "      <td>CTA BUS</td>\n",
       "      <td>False</td>\n",
       "      <td>False</td>\n",
       "      <td>...</td>\n",
       "      <td>-87.765400</td>\n",
       "      <td>(41.895080471, -87.765400451)</td>\n",
       "      <td>4.0</td>\n",
       "      <td>4299.0</td>\n",
       "      <td>26.0</td>\n",
       "      <td>562.0</td>\n",
       "      <td>45.0</td>\n",
       "      <td>5.0</td>\n",
       "      <td>25.0</td>\n",
       "      <td>67.0</td>\n",
       "    </tr>\n",
       "    <tr>\n",
       "      <th>2</th>\n",
       "      <td>11646166</td>\n",
       "      <td>JC213529</td>\n",
       "      <td>09-01-2018 00:01</td>\n",
       "      <td>082XX S INGLESIDE AVE</td>\n",
       "      <td>810</td>\n",
       "      <td>THEFT</td>\n",
       "      <td>OVER $500</td>\n",
       "      <td>RESIDENCE</td>\n",
       "      <td>False</td>\n",
       "      <td>True</td>\n",
       "      <td>...</td>\n",
       "      <td>NaN</td>\n",
       "      <td>NaN</td>\n",
       "      <td>NaN</td>\n",
       "      <td>NaN</td>\n",
       "      <td>NaN</td>\n",
       "      <td>NaN</td>\n",
       "      <td>NaN</td>\n",
       "      <td>NaN</td>\n",
       "      <td>NaN</td>\n",
       "      <td>NaN</td>\n",
       "    </tr>\n",
       "    <tr>\n",
       "      <th>3</th>\n",
       "      <td>10224740</td>\n",
       "      <td>HY411595</td>\n",
       "      <td>09-05-2015 12:45</td>\n",
       "      <td>035XX W BARRY AVE</td>\n",
       "      <td>2023</td>\n",
       "      <td>NARCOTICS</td>\n",
       "      <td>POSS: HEROIN(BRN/TAN)</td>\n",
       "      <td>SIDEWALK</td>\n",
       "      <td>True</td>\n",
       "      <td>False</td>\n",
       "      <td>...</td>\n",
       "      <td>-87.716650</td>\n",
       "      <td>(41.937405765, -87.716649687)</td>\n",
       "      <td>15.0</td>\n",
       "      <td>21538.0</td>\n",
       "      <td>22.0</td>\n",
       "      <td>216.0</td>\n",
       "      <td>12.0</td>\n",
       "      <td>39.0</td>\n",
       "      <td>7.0</td>\n",
       "      <td>168.0</td>\n",
       "    </tr>\n",
       "    <tr>\n",
       "      <th>4</th>\n",
       "      <td>10224741</td>\n",
       "      <td>HY411610</td>\n",
       "      <td>09-05-2015 13:00</td>\n",
       "      <td>0000X N LARAMIE AVE</td>\n",
       "      <td>560</td>\n",
       "      <td>ASSAULT</td>\n",
       "      <td>SIMPLE</td>\n",
       "      <td>APARTMENT</td>\n",
       "      <td>False</td>\n",
       "      <td>True</td>\n",
       "      <td>...</td>\n",
       "      <td>-87.755121</td>\n",
       "      <td>(41.881903443, -87.755121152)</td>\n",
       "      <td>11.0</td>\n",
       "      <td>22216.0</td>\n",
       "      <td>26.0</td>\n",
       "      <td>696.0</td>\n",
       "      <td>23.0</td>\n",
       "      <td>32.0</td>\n",
       "      <td>25.0</td>\n",
       "      <td>81.0</td>\n",
       "    </tr>\n",
       "  </tbody>\n",
       "</table>\n",
       "<p>5 rows × 30 columns</p>\n",
       "</div>"
      ],
      "text/plain": [
       "         ID Case Number              Date                  Block  IUCR  \\\n",
       "0  10224738    HY411648  09-05-2015 13:30        043XX S WOOD ST   486   \n",
       "1  10224739    HY411615  09-04-2015 11:30    008XX N CENTRAL AVE   870   \n",
       "2  11646166    JC213529  09-01-2018 00:01  082XX S INGLESIDE AVE   810   \n",
       "3  10224740    HY411595  09-05-2015 12:45      035XX W BARRY AVE  2023   \n",
       "4  10224741    HY411610  09-05-2015 13:00    0000X N LARAMIE AVE   560   \n",
       "\n",
       "  Primary Type              Description Location Description  Arrest  \\\n",
       "0      BATTERY  DOMESTIC BATTERY SIMPLE            RESIDENCE   False   \n",
       "1        THEFT           POCKET-PICKING              CTA BUS   False   \n",
       "2        THEFT                OVER $500            RESIDENCE   False   \n",
       "3    NARCOTICS    POSS: HEROIN(BRN/TAN)             SIDEWALK    True   \n",
       "4      ASSAULT                   SIMPLE            APARTMENT   False   \n",
       "\n",
       "   Domestic  ...  Longitude                       Location  \\\n",
       "0      True  ... -87.670000  (41.815117282, -87.669999562)   \n",
       "1     False  ... -87.765400  (41.895080471, -87.765400451)   \n",
       "2      True  ...        NaN                            NaN   \n",
       "3     False  ... -87.716650  (41.937405765, -87.716649687)   \n",
       "4      True  ... -87.755121  (41.881903443, -87.755121152)   \n",
       "\n",
       "   Historical Wards 2003-2015  Zip Codes Community Areas  Census Tracts  \\\n",
       "0                        29.0    14924.0            59.0          706.0   \n",
       "1                         4.0     4299.0            26.0          562.0   \n",
       "2                         NaN        NaN             NaN            NaN   \n",
       "3                        15.0    21538.0            22.0          216.0   \n",
       "4                        11.0    22216.0            26.0          696.0   \n",
       "\n",
       "   Wards  Boundaries - ZIP Codes Police Districts  Police Beats  \n",
       "0    3.0                    37.0             23.0         108.0  \n",
       "1   45.0                     5.0             25.0          67.0  \n",
       "2    NaN                     NaN              NaN           NaN  \n",
       "3   12.0                    39.0              7.0         168.0  \n",
       "4   23.0                    32.0             25.0          81.0  \n",
       "\n",
       "[5 rows x 30 columns]"
      ]
     },
     "execution_count": 3,
     "metadata": {},
     "output_type": "execute_result"
    }
   ],
   "source": [
    "df.head(5)"
   ]
  },
  {
   "cell_type": "markdown",
   "id": "e660af74",
   "metadata": {},
   "source": [
    "### Data Summary and Statistics"
   ]
  },
  {
   "cell_type": "code",
   "execution_count": 4,
   "id": "35d63b88",
   "metadata": {},
   "outputs": [
    {
     "data": {
      "text/plain": [
       "(1048575, 30)"
      ]
     },
     "execution_count": 4,
     "metadata": {},
     "output_type": "execute_result"
    }
   ],
   "source": [
    "df.shape"
   ]
  },
  {
   "cell_type": "code",
   "execution_count": 5,
   "id": "91c3b2f7",
   "metadata": {},
   "outputs": [
    {
     "name": "stdout",
     "output_type": "stream",
     "text": [
      "<class 'pandas.core.frame.DataFrame'>\n",
      "RangeIndex: 1048575 entries, 0 to 1048574\n",
      "Data columns (total 30 columns):\n",
      " #   Column                      Non-Null Count    Dtype  \n",
      "---  ------                      --------------    -----  \n",
      " 0   ID                          1048575 non-null  int64  \n",
      " 1   Case Number                 1048575 non-null  object \n",
      " 2   Date                        1048575 non-null  object \n",
      " 3   Block                       1048575 non-null  object \n",
      " 4   IUCR                        1048575 non-null  object \n",
      " 5   Primary Type                1048575 non-null  object \n",
      " 6   Description                 1048575 non-null  object \n",
      " 7   Location Description        1045453 non-null  object \n",
      " 8   Arrest                      1048575 non-null  bool   \n",
      " 9   Domestic                    1048575 non-null  bool   \n",
      " 10  Beat                        1048575 non-null  int64  \n",
      " 11  District                    1048574 non-null  float64\n",
      " 12  Ward                        1022287 non-null  float64\n",
      " 13  Community Area              1022399 non-null  float64\n",
      " 14  FBI Code                    1048575 non-null  object \n",
      " 15  X Coordinate                1043445 non-null  float64\n",
      " 16  Y Coordinate                1043445 non-null  float64\n",
      " 17  Year                        1048575 non-null  int64  \n",
      " 18  Updated On                  1048575 non-null  object \n",
      " 19  Latitude                    1043445 non-null  float64\n",
      " 20  Longitude                   1043445 non-null  float64\n",
      " 21  Location                    1043445 non-null  object \n",
      " 22  Historical Wards 2003-2015  1040972 non-null  float64\n",
      " 23  Zip Codes                   1043445 non-null  float64\n",
      " 24  Community Areas             1041421 non-null  float64\n",
      " 25  Census Tracts               1041510 non-null  float64\n",
      " 26  Wards                       1041439 non-null  float64\n",
      " 27  Boundaries - ZIP Codes      1041432 non-null  float64\n",
      " 28  Police Districts            1041553 non-null  float64\n",
      " 29  Police Beats                1041560 non-null  float64\n",
      "dtypes: bool(2), float64(15), int64(3), object(10)\n",
      "memory usage: 226.0+ MB\n"
     ]
    }
   ],
   "source": [
    "df.info()"
   ]
  },
  {
   "cell_type": "code",
   "execution_count": null,
   "id": "45b34e5e",
   "metadata": {},
   "outputs": [],
   "source": []
  },
  {
   "cell_type": "markdown",
   "id": "c3510b79",
   "metadata": {},
   "source": [
    "### Updating Date and Updated On to datetime"
   ]
  },
  {
   "cell_type": "code",
   "execution_count": 6,
   "id": "101e2847",
   "metadata": {},
   "outputs": [],
   "source": [
    "df['Date'] = pd.to_datetime(df['Date'])"
   ]
  },
  {
   "cell_type": "code",
   "execution_count": 7,
   "id": "e9f096da",
   "metadata": {},
   "outputs": [
    {
     "data": {
      "text/plain": [
       "0         2015-09-05 13:30:00\n",
       "1         2015-09-04 11:30:00\n",
       "2         2018-09-01 00:01:00\n",
       "3         2015-09-05 12:45:00\n",
       "4         2015-09-05 13:00:00\n",
       "                  ...        \n",
       "1048570   2001-01-04 22:42:00\n",
       "1048571   2001-01-04 07:46:00\n",
       "1048572   2001-01-03 02:00:00\n",
       "1048573   2002-05-20 19:14:16\n",
       "1048574   2015-04-25 21:30:00\n",
       "Name: Date, Length: 1048575, dtype: datetime64[ns]"
      ]
     },
     "execution_count": 7,
     "metadata": {},
     "output_type": "execute_result"
    }
   ],
   "source": [
    "df['Date']"
   ]
  },
  {
   "cell_type": "code",
   "execution_count": 8,
   "id": "6a7bf6e9",
   "metadata": {},
   "outputs": [],
   "source": [
    "df['Updated On'] = pd.to_datetime(df['Updated On'])"
   ]
  },
  {
   "cell_type": "raw",
   "id": "b5607e51",
   "metadata": {},
   "source": [
    "#df['Year'] = pd.to_datetime(df['Year'])\n",
    "df['Year'] = df['Year'].astype(str)"
   ]
  },
  {
   "cell_type": "code",
   "execution_count": 9,
   "id": "7b32176f",
   "metadata": {},
   "outputs": [],
   "source": [
    "df = df[df['Date'] >'2018-01-01 00:00:00']"
   ]
  },
  {
   "cell_type": "code",
   "execution_count": 10,
   "id": "ed81fd84",
   "metadata": {},
   "outputs": [
    {
     "name": "stdout",
     "output_type": "stream",
     "text": [
      "<class 'pandas.core.frame.DataFrame'>\n",
      "Int64Index: 362826 entries, 2 to 1048437\n",
      "Data columns (total 30 columns):\n",
      " #   Column                      Non-Null Count   Dtype         \n",
      "---  ------                      --------------   -----         \n",
      " 0   ID                          362826 non-null  int64         \n",
      " 1   Case Number                 362826 non-null  object        \n",
      " 2   Date                        362826 non-null  datetime64[ns]\n",
      " 3   Block                       362826 non-null  object        \n",
      " 4   IUCR                        362826 non-null  object        \n",
      " 5   Primary Type                362826 non-null  object        \n",
      " 6   Description                 362826 non-null  object        \n",
      " 7   Location Description        361751 non-null  object        \n",
      " 8   Arrest                      362826 non-null  bool          \n",
      " 9   Domestic                    362826 non-null  bool          \n",
      " 10  Beat                        362826 non-null  int64         \n",
      " 11  District                    362826 non-null  float64       \n",
      " 12  Ward                        362822 non-null  float64       \n",
      " 13  Community Area              362826 non-null  float64       \n",
      " 14  FBI Code                    362826 non-null  object        \n",
      " 15  X Coordinate                361529 non-null  float64       \n",
      " 16  Y Coordinate                361529 non-null  float64       \n",
      " 17  Year                        362826 non-null  int64         \n",
      " 18  Updated On                  362826 non-null  datetime64[ns]\n",
      " 19  Latitude                    361529 non-null  float64       \n",
      " 20  Longitude                   361529 non-null  float64       \n",
      " 21  Location                    361529 non-null  object        \n",
      " 22  Historical Wards 2003-2015  360573 non-null  float64       \n",
      " 23  Zip Codes                   361529 non-null  float64       \n",
      " 24  Community Areas             360721 non-null  float64       \n",
      " 25  Census Tracts               360813 non-null  float64       \n",
      " 26  Wards                       360724 non-null  float64       \n",
      " 27  Boundaries - ZIP Codes      360724 non-null  float64       \n",
      " 28  Police Districts            360768 non-null  float64       \n",
      " 29  Police Beats                360768 non-null  float64       \n",
      "dtypes: bool(2), datetime64[ns](2), float64(15), int64(3), object(8)\n",
      "memory usage: 81.0+ MB\n"
     ]
    }
   ],
   "source": [
    "df.info()"
   ]
  },
  {
   "cell_type": "code",
   "execution_count": 11,
   "id": "0107fb5b",
   "metadata": {},
   "outputs": [],
   "source": [
    "df = df[['ID','Primary Type','Location Description','Arrest','District','Year','Police Districts']]"
   ]
  },
  {
   "cell_type": "code",
   "execution_count": 12,
   "id": "6e18cbd8",
   "metadata": {},
   "outputs": [
    {
     "name": "stdout",
     "output_type": "stream",
     "text": [
      "<class 'pandas.core.frame.DataFrame'>\n",
      "Int64Index: 362826 entries, 2 to 1048437\n",
      "Data columns (total 7 columns):\n",
      " #   Column                Non-Null Count   Dtype  \n",
      "---  ------                --------------   -----  \n",
      " 0   ID                    362826 non-null  int64  \n",
      " 1   Primary Type          362826 non-null  object \n",
      " 2   Location Description  361751 non-null  object \n",
      " 3   Arrest                362826 non-null  bool   \n",
      " 4   District              362826 non-null  float64\n",
      " 5   Year                  362826 non-null  int64  \n",
      " 6   Police Districts      360768 non-null  float64\n",
      "dtypes: bool(1), float64(2), int64(2), object(2)\n",
      "memory usage: 19.7+ MB\n"
     ]
    }
   ],
   "source": [
    "df.info()"
   ]
  },
  {
   "cell_type": "code",
   "execution_count": 13,
   "id": "a8cf69f7",
   "metadata": {
    "scrolled": true
   },
   "outputs": [
    {
     "name": "stdout",
     "output_type": "stream",
     "text": [
      "<class 'pandas.core.frame.DataFrame'>\n",
      "Int64Index: 362826 entries, 2 to 1048437\n",
      "Data columns (total 7 columns):\n",
      " #   Column                Non-Null Count   Dtype  \n",
      "---  ------                --------------   -----  \n",
      " 0   ID                    362826 non-null  int64  \n",
      " 1   Primary Type          362826 non-null  object \n",
      " 2   Location Description  361751 non-null  object \n",
      " 3   Arrest                362826 non-null  bool   \n",
      " 4   District              362826 non-null  float64\n",
      " 5   Year                  362826 non-null  int64  \n",
      " 6   Police Districts      360768 non-null  float64\n",
      "dtypes: bool(1), float64(2), int64(2), object(2)\n",
      "memory usage: 19.7+ MB\n"
     ]
    }
   ],
   "source": [
    "df.info()"
   ]
  },
  {
   "cell_type": "code",
   "execution_count": 14,
   "id": "394ea862",
   "metadata": {},
   "outputs": [
    {
     "data": {
      "text/plain": [
       "2          2018\n",
       "90         2020\n",
       "158        2018\n",
       "183        2019\n",
       "235        2019\n",
       "           ... \n",
       "1047673    2019\n",
       "1047856    2019\n",
       "1048359    2019\n",
       "1048383    2019\n",
       "1048437    2019\n",
       "Name: Year, Length: 362826, dtype: int64"
      ]
     },
     "execution_count": 14,
     "metadata": {},
     "output_type": "execute_result"
    }
   ],
   "source": [
    "df['Year']"
   ]
  },
  {
   "cell_type": "code",
   "execution_count": 15,
   "id": "6a418c73",
   "metadata": {},
   "outputs": [
    {
     "data": {
      "text/html": [
       "<div>\n",
       "<style scoped>\n",
       "    .dataframe tbody tr th:only-of-type {\n",
       "        vertical-align: middle;\n",
       "    }\n",
       "\n",
       "    .dataframe tbody tr th {\n",
       "        vertical-align: top;\n",
       "    }\n",
       "\n",
       "    .dataframe thead th {\n",
       "        text-align: right;\n",
       "    }\n",
       "</style>\n",
       "<table border=\"1\" class=\"dataframe\">\n",
       "  <thead>\n",
       "    <tr style=\"text-align: right;\">\n",
       "      <th></th>\n",
       "      <th>count</th>\n",
       "      <th>mean</th>\n",
       "      <th>std</th>\n",
       "      <th>min</th>\n",
       "      <th>25%</th>\n",
       "      <th>50%</th>\n",
       "      <th>75%</th>\n",
       "      <th>max</th>\n",
       "    </tr>\n",
       "  </thead>\n",
       "  <tbody>\n",
       "    <tr>\n",
       "      <th>ID</th>\n",
       "      <td>362826.0</td>\n",
       "      <td>1.146181e+07</td>\n",
       "      <td>194012.869554</td>\n",
       "      <td>24568.0</td>\n",
       "      <td>11321766.25</td>\n",
       "      <td>11446373.5</td>\n",
       "      <td>11576238.5</td>\n",
       "      <td>12249393.0</td>\n",
       "    </tr>\n",
       "    <tr>\n",
       "      <th>District</th>\n",
       "      <td>362826.0</td>\n",
       "      <td>1.116252e+01</td>\n",
       "      <td>6.949564</td>\n",
       "      <td>1.0</td>\n",
       "      <td>6.00</td>\n",
       "      <td>10.0</td>\n",
       "      <td>17.0</td>\n",
       "      <td>31.0</td>\n",
       "    </tr>\n",
       "    <tr>\n",
       "      <th>Year</th>\n",
       "      <td>362826.0</td>\n",
       "      <td>2.018309e+03</td>\n",
       "      <td>0.507749</td>\n",
       "      <td>2018.0</td>\n",
       "      <td>2018.00</td>\n",
       "      <td>2018.0</td>\n",
       "      <td>2019.0</td>\n",
       "      <td>2020.0</td>\n",
       "    </tr>\n",
       "    <tr>\n",
       "      <th>Police Districts</th>\n",
       "      <td>360768.0</td>\n",
       "      <td>1.504689e+01</td>\n",
       "      <td>6.358925</td>\n",
       "      <td>1.0</td>\n",
       "      <td>10.00</td>\n",
       "      <td>16.0</td>\n",
       "      <td>20.0</td>\n",
       "      <td>25.0</td>\n",
       "    </tr>\n",
       "  </tbody>\n",
       "</table>\n",
       "</div>"
      ],
      "text/plain": [
       "                     count          mean            std      min          25%  \\\n",
       "ID                362826.0  1.146181e+07  194012.869554  24568.0  11321766.25   \n",
       "District          362826.0  1.116252e+01       6.949564      1.0         6.00   \n",
       "Year              362826.0  2.018309e+03       0.507749   2018.0      2018.00   \n",
       "Police Districts  360768.0  1.504689e+01       6.358925      1.0        10.00   \n",
       "\n",
       "                         50%         75%         max  \n",
       "ID                11446373.5  11576238.5  12249393.0  \n",
       "District                10.0        17.0        31.0  \n",
       "Year                  2018.0      2019.0      2020.0  \n",
       "Police Districts        16.0        20.0        25.0  "
      ]
     },
     "execution_count": 15,
     "metadata": {},
     "output_type": "execute_result"
    }
   ],
   "source": [
    "df.describe().transpose()"
   ]
  },
  {
   "cell_type": "code",
   "execution_count": 16,
   "id": "a2c2c347",
   "metadata": {
    "scrolled": true
   },
   "outputs": [
    {
     "data": {
      "text/plain": [
       "Police Districts        2058\n",
       "Location Description    1075\n",
       "ID                         0\n",
       "Primary Type               0\n",
       "Arrest                     0\n",
       "District                   0\n",
       "Year                       0\n",
       "dtype: int64"
      ]
     },
     "execution_count": 16,
     "metadata": {},
     "output_type": "execute_result"
    }
   ],
   "source": [
    "df.isna().sum().sort_values(ascending=False)"
   ]
  },
  {
   "cell_type": "code",
   "execution_count": 17,
   "id": "06e26857",
   "metadata": {},
   "outputs": [],
   "source": [
    "import altair as alt"
   ]
  },
  {
   "cell_type": "code",
   "execution_count": 18,
   "id": "e68168d0",
   "metadata": {},
   "outputs": [],
   "source": [
    "column_list = list(df.keys())"
   ]
  },
  {
   "cell_type": "code",
   "execution_count": 19,
   "id": "f0cc0a32",
   "metadata": {
    "scrolled": true
   },
   "outputs": [
    {
     "data": {
      "text/plain": [
       "['ID',\n",
       " 'Primary Type',\n",
       " 'Location Description',\n",
       " 'Arrest',\n",
       " 'District',\n",
       " 'Year',\n",
       " 'Police Districts']"
      ]
     },
     "execution_count": 19,
     "metadata": {},
     "output_type": "execute_result"
    }
   ],
   "source": [
    "column_list"
   ]
  },
  {
   "cell_type": "markdown",
   "id": "cbe881c7",
   "metadata": {},
   "source": [
    "#### Checking the columns we are concerned about"
   ]
  },
  {
   "cell_type": "code",
   "execution_count": 20,
   "id": "4792a5e5",
   "metadata": {},
   "outputs": [
    {
     "data": {
      "text/plain": [
       "array([[<AxesSubplot:title={'center':'ID'}>,\n",
       "        <AxesSubplot:title={'center':'District'}>],\n",
       "       [<AxesSubplot:title={'center':'Year'}>,\n",
       "        <AxesSubplot:title={'center':'Police Districts'}>]], dtype=object)"
      ]
     },
     "execution_count": 20,
     "metadata": {},
     "output_type": "execute_result"
    },
    {
     "data": {
      "image/png": "[encoded data removed]",
      "text/plain": [
       "<Figure size 1080x1440 with 4 Axes>"
      ]
     },
     "metadata": {
      "needs_background": "light"
     },
     "output_type": "display_data"
    }
   ],
   "source": [
    "df.hist(figsize = (15,20))"
   ]
  },
  {
   "cell_type": "code",
   "execution_count": 21,
   "id": "d0635332",
   "metadata": {},
   "outputs": [
    {
     "data": {
      "text/plain": [
       "array([2018, 2020, 2019], dtype=int64)"
      ]
     },
     "execution_count": 21,
     "metadata": {},
     "output_type": "execute_result"
    }
   ],
   "source": [
    "df['Year'].unique()"
   ]
  },
  {
   "cell_type": "code",
   "execution_count": 22,
   "id": "682cd69e",
   "metadata": {},
   "outputs": [
    {
     "data": {
      "text/plain": [
       "array(['THEFT', 'DECEPTIVE PRACTICE', 'OTHER OFFENSE',\n",
       "       'MOTOR VEHICLE THEFT', 'CRIMINAL DAMAGE', 'ASSAULT', 'BATTERY',\n",
       "       'NARCOTICS', 'WEAPONS VIOLATION', 'OFFENSE INVOLVING CHILDREN',\n",
       "       'ROBBERY', 'CRIMINAL TRESPASS', 'LIQUOR LAW VIOLATION', 'BURGLARY',\n",
       "       'INTERFERENCE WITH PUBLIC OFFICER', 'CRIM SEXUAL ASSAULT', 'ARSON',\n",
       "       'CRIMINAL SEXUAL ASSAULT', 'PROSTITUTION',\n",
       "       'PUBLIC PEACE VIOLATION', 'SEX OFFENSE', 'STALKING', 'KIDNAPPING',\n",
       "       'INTIMIDATION', 'CONCEALED CARRY LICENSE VIOLATION', 'GAMBLING',\n",
       "       'OBSCENITY', 'HOMICIDE', 'NON-CRIMINAL', 'HUMAN TRAFFICKING',\n",
       "       'PUBLIC INDECENCY', 'NON-CRIMINAL (SUBJECT SPECIFIED)',\n",
       "       'OTHER NARCOTIC VIOLATION'], dtype=object)"
      ]
     },
     "execution_count": 22,
     "metadata": {},
     "output_type": "execute_result"
    }
   ],
   "source": [
    "df['Primary Type'].unique()"
   ]
  },
  {
   "cell_type": "code",
   "execution_count": 23,
   "id": "2201614e",
   "metadata": {
    "scrolled": true
   },
   "outputs": [
    {
     "data": {
      "text/plain": [
       "array(['RESIDENCE', 'STREET', 'COMMERCIAL / BUSINESS OFFICE',\n",
       "       'GROCERY FOOD STORE', 'APARTMENT', 'GAS STATION',\n",
       "       'APPLIANCE STORE', 'RESIDENCE PORCH/HALLWAY', 'OTHER (SPECIFY)',\n",
       "       nan, 'RESTAURANT', 'COLLEGE/UNIVERSITY GROUNDS', 'SIDEWALK',\n",
       "       'BAR OR TAVERN', 'AIRPORT TERMINAL LOWER LEVEL - NON-SECURE AREA',\n",
       "       'OTHER', 'HOTEL/MOTEL', 'ATHLETIC CLUB', 'RESIDENCE-GARAGE',\n",
       "       'SMALL RETAIL STORE', 'VEHICLE NON-COMMERCIAL', 'ALLEY',\n",
       "       'ABANDONED BUILDING', 'DEPARTMENT STORE', 'CTA TRAIN',\n",
       "       'TAVERN/LIQUOR STORE',\n",
       "       'VEHICLE - OTHER RIDE SHARE SERVICE (E.G., UBER, LYFT)',\n",
       "       'POLICE FACILITY/VEH PARKING LOT', 'VACANT LOT/LAND',\n",
       "       'ATM (AUTOMATIC TELLER MACHINE)', 'CTA BUS',\n",
       "       'RESIDENTIAL YARD (FRONT/BACK)', 'TAXICAB', 'CONSTRUCTION SITE',\n",
       "       'DRUG STORE', 'NURSING HOME/RETIREMENT HOME',\n",
       "       'SCHOOL, PUBLIC, GROUNDS', 'BANK', 'CTA PLATFORM',\n",
       "       'CONVENIENCE STORE', 'PARKING LOT/GARAGE(NON.RESID.)',\n",
       "       'PARKING LOT / GARAGE (NON RESIDENTIAL)',\n",
       "       'POLICE FACILITY / VEHICLE PARKING LOT', 'PARK PROPERTY',\n",
       "       'CHA APARTMENT', 'AIRPORT TERMINAL UPPER LEVEL - SECURE AREA',\n",
       "       'VEHICLE - COMMERCIAL', 'HOSPITAL BUILDING/GROUNDS',\n",
       "       'MEDICAL/DENTAL OFFICE', 'GOVERNMENT BUILDING/PROPERTY',\n",
       "       'SCHOOL, PUBLIC, BUILDING', 'AUTO / BOAT / RV DEALERSHIP',\n",
       "       'CTA GARAGE / OTHER PROPERTY', 'SCHOOL, PRIVATE, GROUNDS',\n",
       "       'COIN OPERATED MACHINE', 'CHURCH/SYNAGOGUE/PLACE OF WORSHIP',\n",
       "       'WAREHOUSE', 'CTA BUS STOP', 'CHA PARKING LOT/GROUNDS',\n",
       "       'SCHOOL, PRIVATE, BUILDING', 'BARBERSHOP', 'RESIDENCE - GARAGE',\n",
       "       'CURRENCY EXCHANGE', 'OTHER RAILROAD PROP / TRAIN DEPOT',\n",
       "       'HOSPITAL BUILDING / GROUNDS', 'RESIDENCE - PORCH / HALLWAY',\n",
       "       'DRIVEWAY - RESIDENTIAL', 'CHA HALLWAY / STAIRWELL / ELEVATOR',\n",
       "       'VEHICLE - OTHER RIDE SHARE SERVICE (LYFT, UBER, ETC.)',\n",
       "       'AIRPORT/AIRCRAFT', 'FACTORY / MANUFACTURING BUILDING', 'BRIDGE',\n",
       "       'SAVINGS AND LOAN', 'SCHOOL - PUBLIC BUILDING', 'AIRCRAFT',\n",
       "       'RESIDENCE - YARD (FRONT / BACK)',\n",
       "       'OTHER COMMERCIAL TRANSPORTATION', 'AIRPORT PARKING LOT',\n",
       "       'MOVIE HOUSE / THEATER', 'CHA PARKING LOT / GROUNDS',\n",
       "       'CTA STATION', 'FACTORY/MANUFACTURING BUILDING',\n",
       "       'CHA HALLWAY/STAIRWELL/ELEVATOR',\n",
       "       'AIRPORT EXTERIOR - NON-SECURE AREA', 'JAIL / LOCK-UP FACILITY',\n",
       "       'CAR WASH', 'LIBRARY', 'FIRE STATION', 'ANIMAL HOSPITAL',\n",
       "       'VACANT LOT / LAND', 'HIGHWAY/EXPRESSWAY',\n",
       "       'NURSING / RETIREMENT HOME', 'CLEANING STORE',\n",
       "       'AIRPORT TERMINAL UPPER LEVEL - NON-SECURE AREA',\n",
       "       'GOVERNMENT BUILDING / PROPERTY', 'HOTEL / MOTEL',\n",
       "       'SCHOOL - PRIVATE BUILDING', 'SPORTS ARENA/STADIUM',\n",
       "       'AIRPORT VENDING ESTABLISHMENT', 'VACANT LOT',\n",
       "       'CHURCH / SYNAGOGUE / PLACE OF WORSHIP', 'NEWSSTAND',\n",
       "       'OTHER RAILROAD PROPERTY / TRAIN DEPOT', 'TAVERN / LIQUOR STORE',\n",
       "       'AIRPORT BUILDING NON-TERMINAL - SECURE AREA', 'DAY CARE CENTER',\n",
       "       'AIRPORT EXTERIOR - SECURE AREA',\n",
       "       'LAKEFRONT / WATERFRONT / RIVERBANK', 'BOWLING ALLEY', 'CEMETARY',\n",
       "       'VEHICLE-COMMERCIAL', 'VEHICLE - DELIVERY TRUCK',\n",
       "       'MEDICAL / DENTAL OFFICE', 'COLLEGE/UNIVERSITY RESIDENCE HALL',\n",
       "       'CTA TRACKS - RIGHT OF WAY', 'AIRPORT TRANSPORTATION SYSTEM (ATS)',\n",
       "       'LAKEFRONT/WATERFRONT/RIVERBANK', 'SCHOOL - PUBLIC GROUNDS',\n",
       "       'MOVIE HOUSE/THEATER', 'PAWN SHOP',\n",
       "       'AIRPORT BUILDING NON-TERMINAL - NON-SECURE AREA',\n",
       "       'FEDERAL BUILDING', 'AIRPORT TERMINAL LOWER LEVEL - SECURE AREA',\n",
       "       'POOL ROOM', 'AIRPORT TERMINAL MEZZANINE - NON-SECURE AREA',\n",
       "       'FOREST PRESERVE', 'VEHICLE-COMMERCIAL - TROLLEY BUS',\n",
       "       'BOAT/WATERCRAFT', 'VEHICLE-COMMERCIAL - ENTERTAINMENT/PARTY BUS',\n",
       "       'HORSE STABLE', 'FARM', 'COLLEGE / UNIVERSITY - GROUNDS',\n",
       "       'CREDIT UNION', 'SCHOOL - PRIVATE GROUNDS',\n",
       "       'SPORTS ARENA / STADIUM', 'COLLEGE / UNIVERSITY - RESIDENCE HALL',\n",
       "       'KENNEL', 'CTA PARKING LOT / GARAGE / OTHER PROPERTY',\n",
       "       'HIGHWAY / EXPRESSWAY', 'AUTO'], dtype=object)"
      ]
     },
     "execution_count": 23,
     "metadata": {},
     "output_type": "execute_result"
    }
   ],
   "source": [
    "df['Location Description'].unique()"
   ]
  },
  {
   "cell_type": "code",
   "execution_count": 24,
   "id": "a1454b13",
   "metadata": {},
   "outputs": [],
   "source": [
    "#df['Location Description'].unique()"
   ]
  },
  {
   "cell_type": "code",
   "execution_count": 25,
   "id": "6c13906e",
   "metadata": {},
   "outputs": [
    {
     "name": "stdout",
     "output_type": "stream",
     "text": [
      "False\n"
     ]
    }
   ],
   "source": [
    "print('CHURCH PROPERTY' in df['Location Description'].unique())"
   ]
  },
  {
   "cell_type": "code",
   "execution_count": 26,
   "id": "3e3dae9e",
   "metadata": {},
   "outputs": [
    {
     "name": "stdout",
     "output_type": "stream",
     "text": [
      "no\n"
     ]
    }
   ],
   "source": [
    "if \"SCHOOL\" in df['Location Description']:\n",
    "    print(\"Yes\")\n",
    "else:\n",
    "    print(\"no\")"
   ]
  },
  {
   "cell_type": "code",
   "execution_count": 27,
   "id": "f91aae6c",
   "metadata": {},
   "outputs": [
    {
     "name": "stderr",
     "output_type": "stream",
     "text": [
      "<ipython-input-27-35319e8b216f>:1: FutureWarning: The pandas.np module is deprecated and will be removed from pandas in a future version. Import numpy directly instead.\n",
      "  df['Location Description Modified'] = pd.np.where(df['Location Description'].str.contains(\"SCHOOL\"), \"SCHOOL\",\n",
      "<ipython-input-27-35319e8b216f>:2: FutureWarning: The pandas.np module is deprecated and will be removed from pandas in a future version. Import numpy directly instead.\n",
      "  pd.np.where(df['Location Description'].str.contains(\"VEHICLE\"), \"VEHICLE\",\n",
      "<ipython-input-27-35319e8b216f>:3: FutureWarning: The pandas.np module is deprecated and will be removed from pandas in a future version. Import numpy directly instead.\n",
      "  pd.np.where(df['Location Description'].str.contains(\"APARTMENT\"), \"RESIDENCE\",\n",
      "<ipython-input-27-35319e8b216f>:4: FutureWarning: The pandas.np module is deprecated and will be removed from pandas in a future version. Import numpy directly instead.\n",
      "  pd.np.where(df['Location Description'].str.contains(\"PARKING\"), \"PARKING\",\n",
      "<ipython-input-27-35319e8b216f>:5: FutureWarning: The pandas.np module is deprecated and will be removed from pandas in a future version. Import numpy directly instead.\n",
      "  pd.np.where(df['Location Description'].str.contains(\"SIDEWALK\"), \"SIDEWALK\",\n",
      "<ipython-input-27-35319e8b216f>:6: FutureWarning: The pandas.np module is deprecated and will be removed from pandas in a future version. Import numpy directly instead.\n",
      "  pd.np.where(df['Location Description'].str.contains(\"LIBRARY\"), \"LIBRARY\",\n",
      "<ipython-input-27-35319e8b216f>:7: FutureWarning: The pandas.np module is deprecated and will be removed from pandas in a future version. Import numpy directly instead.\n",
      "  pd.np.where(df['Location Description'].str.contains(\"AIRPORT\"), \"AIRPORT\",\n",
      "<ipython-input-27-35319e8b216f>:8: FutureWarning: The pandas.np module is deprecated and will be removed from pandas in a future version. Import numpy directly instead.\n",
      "  pd.np.where(df['Location Description'].str.contains(\"OFFICE\"), \"OFFICE\",\n",
      "<ipython-input-27-35319e8b216f>:9: FutureWarning: The pandas.np module is deprecated and will be removed from pandas in a future version. Import numpy directly instead.\n",
      "  pd.np.where(df['Location Description'].str.contains(\"STREET\"), \"STREET\",\n",
      "<ipython-input-27-35319e8b216f>:10: FutureWarning: The pandas.np module is deprecated and will be removed from pandas in a future version. Import numpy directly instead.\n",
      "  pd.np.where(df['Location Description'].str.contains(\"RESIDENTIAL\"), \"RESIDENCE\",\n",
      "<ipython-input-27-35319e8b216f>:11: FutureWarning: The pandas.np module is deprecated and will be removed from pandas in a future version. Import numpy directly instead.\n",
      "  pd.np.where(df['Location Description'].str.contains(\"RESIDENCE\"), \"RESIDENCE\", \"OTHER\")))))))))))\n"
     ]
    }
   ],
   "source": [
    "df['Location Description Modified'] = pd.np.where(df['Location Description'].str.contains(\"SCHOOL\"), \"SCHOOL\",\n",
    "                               pd.np.where(df['Location Description'].str.contains(\"VEHICLE\"), \"VEHICLE\",\n",
    "                                pd.np.where(df['Location Description'].str.contains(\"APARTMENT\"), \"RESIDENCE\",\n",
    "                                pd.np.where(df['Location Description'].str.contains(\"PARKING\"), \"PARKING\",\n",
    "                                pd.np.where(df['Location Description'].str.contains(\"SIDEWALK\"), \"SIDEWALK\",\n",
    "                                pd.np.where(df['Location Description'].str.contains(\"LIBRARY\"), \"LIBRARY\",\n",
    "                                pd.np.where(df['Location Description'].str.contains(\"AIRPORT\"), \"AIRPORT\",\n",
    "                                pd.np.where(df['Location Description'].str.contains(\"OFFICE\"), \"OFFICE\",\n",
    "                                pd.np.where(df['Location Description'].str.contains(\"STREET\"), \"STREET\",\n",
    "                                pd.np.where(df['Location Description'].str.contains(\"RESIDENTIAL\"), \"RESIDENCE\",\n",
    "                               pd.np.where(df['Location Description'].str.contains(\"RESIDENCE\"), \"RESIDENCE\", \"OTHER\")))))))))))"
   ]
  },
  {
   "cell_type": "code",
   "execution_count": 28,
   "id": "8b946228",
   "metadata": {},
   "outputs": [
    {
     "data": {
      "text/plain": [
       "10"
      ]
     },
     "execution_count": 28,
     "metadata": {},
     "output_type": "execute_result"
    }
   ],
   "source": [
    "df['Location Description Modified'].nunique()"
   ]
  },
  {
   "cell_type": "raw",
   "id": "4f0ba033",
   "metadata": {},
   "source": [
    "df['Year'] = pd.to_datetime(df['Year'])"
   ]
  },
  {
   "cell_type": "raw",
   "id": "66a4ef2a",
   "metadata": {},
   "source": [
    "df['Year']"
   ]
  },
  {
   "cell_type": "code",
   "execution_count": 29,
   "id": "e1bc2b2c",
   "metadata": {
    "scrolled": true
   },
   "outputs": [],
   "source": [
    "df.to_csv(\"Crime_2001_data_prepared.csv\")"
   ]
  },
  {
   "cell_type": "code",
   "execution_count": 31,
   "id": "01e606cb",
   "metadata": {},
   "outputs": [],
   "source": [
    "#type(df['Latitude'])"
   ]
  },
  {
   "cell_type": "code",
   "execution_count": null,
   "id": "f69488dc",
   "metadata": {},
   "outputs": [],
   "source": []
  }
 ],
 "metadata": {
  "kernelspec": {
   "display_name": "Python 3",
   "language": "python",
   "name": "python3"
  },
  "language_info": {
   "codemirror_mode": {
    "name": "ipython",
    "version": 3
   },
   "file_extension": ".py",
   "mimetype": "text/x-python",
   "name": "python",
   "nbconvert_exporter": "python",
   "pygments_lexer": "ipython3",
   "version": "3.8.8"
  }
 },
 "nbformat": 4,
 "nbformat_minor": 5
}
