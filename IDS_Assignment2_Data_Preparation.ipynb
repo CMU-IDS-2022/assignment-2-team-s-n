{
 "cells": [
  {
   "cell_type": "code",
   "execution_count": 1,
   "id": "33e1a4d4",
   "metadata": {},
   "outputs": [],
   "source": [
    "import pandas as pd"
   ]
  },
  {
   "cell_type": "code",
   "execution_count": 2,
   "id": "fb156ea3",
   "metadata": {},
   "outputs": [],
   "source": [
    "df = pd.read_csv(\"Crimes_-_2001_to_Present.csv\")"
   ]
  },
  {
   "cell_type": "code",
   "execution_count": 3,
   "id": "00cfc028",
   "metadata": {},
   "outputs": [
    {
     "data": {
      "text/html": [
       "<div>\n",
       "<style scoped>\n",
       "    .dataframe tbody tr th:only-of-type {\n",
       "        vertical-align: middle;\n",
       "    }\n",
       "\n",
       "    .dataframe tbody tr th {\n",
       "        vertical-align: top;\n",
       "    }\n",
       "\n",
       "    .dataframe thead th {\n",
       "        text-align: right;\n",
       "    }\n",
       "</style>\n",
       "<table border=\"1\" class=\"dataframe\">\n",
       "  <thead>\n",
       "    <tr style=\"text-align: right;\">\n",
       "      <th></th>\n",
       "      <th>ID</th>\n",
       "      <th>Case Number</th>\n",
       "      <th>Date</th>\n",
       "      <th>Block</th>\n",
       "      <th>IUCR</th>\n",
       "      <th>Primary Type</th>\n",
       "      <th>Description</th>\n",
       "      <th>Location Description</th>\n",
       "      <th>Arrest</th>\n",
       "      <th>Domestic</th>\n",
       "      <th>...</th>\n",
       "      <th>Longitude</th>\n",
       "      <th>Location</th>\n",
       "      <th>Historical Wards 2003-2015</th>\n",
       "      <th>Zip Codes</th>\n",
       "      <th>Community Areas</th>\n",
       "      <th>Census Tracts</th>\n",
       "      <th>Wards</th>\n",
       "      <th>Boundaries - ZIP Codes</th>\n",
       "      <th>Police Districts</th>\n",
       "      <th>Police Beats</th>\n",
       "    </tr>\n",
       "  </thead>\n",
       "  <tbody>\n",
       "    <tr>\n",
       "      <th>0</th>\n",
       "      <td>10224738</td>\n",
       "      <td>HY411648</td>\n",
       "      <td>09-05-2015 13:30</td>\n",
       "      <td>043XX S WOOD ST</td>\n",
       "      <td>486</td>\n",
       "      <td>BATTERY</td>\n",
       "      <td>DOMESTIC BATTERY SIMPLE</td>\n",
       "      <td>RESIDENCE</td>\n",
       "      <td>False</td>\n",
       "      <td>True</td>\n",
       "      <td>...</td>\n",
       "      <td>-87.670000</td>\n",
       "      <td>(41.815117282, -87.669999562)</td>\n",
       "      <td>29.0</td>\n",
       "      <td>14924.0</td>\n",
       "      <td>59.0</td>\n",
       "      <td>706.0</td>\n",
       "      <td>3.0</td>\n",
       "      <td>37.0</td>\n",
       "      <td>23.0</td>\n",
       "      <td>108.0</td>\n",
       "    </tr>\n",
       "    <tr>\n",
       "      <th>1</th>\n",
       "      <td>10224739</td>\n",
       "      <td>HY411615</td>\n",
       "      <td>09-04-2015 11:30</td>\n",
       "      <td>008XX N CENTRAL AVE</td>\n",
       "      <td>870</td>\n",
       "      <td>THEFT</td>\n",
       "      <td>POCKET-PICKING</td>\n",
       "      <td>CTA BUS</td>\n",
       "      <td>False</td>\n",
       "      <td>False</td>\n",
       "      <td>...</td>\n",
       "      <td>-87.765400</td>\n",
       "      <td>(41.895080471, -87.765400451)</td>\n",
       "      <td>4.0</td>\n",
       "      <td>4299.0</td>\n",
       "      <td>26.0</td>\n",
       "      <td>562.0</td>\n",
       "      <td>45.0</td>\n",
       "      <td>5.0</td>\n",
       "      <td>25.0</td>\n",
       "      <td>67.0</td>\n",
       "    </tr>\n",
       "    <tr>\n",
       "      <th>2</th>\n",
       "      <td>11646166</td>\n",
       "      <td>JC213529</td>\n",
       "      <td>09-01-2018 00:01</td>\n",
       "      <td>082XX S INGLESIDE AVE</td>\n",
       "      <td>810</td>\n",
       "      <td>THEFT</td>\n",
       "      <td>OVER $500</td>\n",
       "      <td>RESIDENCE</td>\n",
       "      <td>False</td>\n",
       "      <td>True</td>\n",
       "      <td>...</td>\n",
       "      <td>NaN</td>\n",
       "      <td>NaN</td>\n",
       "      <td>NaN</td>\n",
       "      <td>NaN</td>\n",
       "      <td>NaN</td>\n",
       "      <td>NaN</td>\n",
       "      <td>NaN</td>\n",
       "      <td>NaN</td>\n",
       "      <td>NaN</td>\n",
       "      <td>NaN</td>\n",
       "    </tr>\n",
       "    <tr>\n",
       "      <th>3</th>\n",
       "      <td>10224740</td>\n",
       "      <td>HY411595</td>\n",
       "      <td>09-05-2015 12:45</td>\n",
       "      <td>035XX W BARRY AVE</td>\n",
       "      <td>2023</td>\n",
       "      <td>NARCOTICS</td>\n",
       "      <td>POSS: HEROIN(BRN/TAN)</td>\n",
       "      <td>SIDEWALK</td>\n",
       "      <td>True</td>\n",
       "      <td>False</td>\n",
       "      <td>...</td>\n",
       "      <td>-87.716650</td>\n",
       "      <td>(41.937405765, -87.716649687)</td>\n",
       "      <td>15.0</td>\n",
       "      <td>21538.0</td>\n",
       "      <td>22.0</td>\n",
       "      <td>216.0</td>\n",
       "      <td>12.0</td>\n",
       "      <td>39.0</td>\n",
       "      <td>7.0</td>\n",
       "      <td>168.0</td>\n",
       "    </tr>\n",
       "    <tr>\n",
       "      <th>4</th>\n",
       "      <td>10224741</td>\n",
       "      <td>HY411610</td>\n",
       "      <td>09-05-2015 13:00</td>\n",
       "      <td>0000X N LARAMIE AVE</td>\n",
       "      <td>560</td>\n",
       "      <td>ASSAULT</td>\n",
       "      <td>SIMPLE</td>\n",
       "      <td>APARTMENT</td>\n",
       "      <td>False</td>\n",
       "      <td>True</td>\n",
       "      <td>...</td>\n",
       "      <td>-87.755121</td>\n",
       "      <td>(41.881903443, -87.755121152)</td>\n",
       "      <td>11.0</td>\n",
       "      <td>22216.0</td>\n",
       "      <td>26.0</td>\n",
       "      <td>696.0</td>\n",
       "      <td>23.0</td>\n",
       "      <td>32.0</td>\n",
       "      <td>25.0</td>\n",
       "      <td>81.0</td>\n",
       "    </tr>\n",
       "  </tbody>\n",
       "</table>\n",
       "<p>5 rows × 30 columns</p>\n",
       "</div>"
      ],
      "text/plain": [
       "         ID Case Number              Date                  Block  IUCR  \\\n",
       "0  10224738    HY411648  09-05-2015 13:30        043XX S WOOD ST   486   \n",
       "1  10224739    HY411615  09-04-2015 11:30    008XX N CENTRAL AVE   870   \n",
       "2  11646166    JC213529  09-01-2018 00:01  082XX S INGLESIDE AVE   810   \n",
       "3  10224740    HY411595  09-05-2015 12:45      035XX W BARRY AVE  2023   \n",
       "4  10224741    HY411610  09-05-2015 13:00    0000X N LARAMIE AVE   560   \n",
       "\n",
       "  Primary Type              Description Location Description  Arrest  \\\n",
       "0      BATTERY  DOMESTIC BATTERY SIMPLE            RESIDENCE   False   \n",
       "1        THEFT           POCKET-PICKING              CTA BUS   False   \n",
       "2        THEFT                OVER $500            RESIDENCE   False   \n",
       "3    NARCOTICS    POSS: HEROIN(BRN/TAN)             SIDEWALK    True   \n",
       "4      ASSAULT                   SIMPLE            APARTMENT   False   \n",
       "\n",
       "   Domestic  ...  Longitude                       Location  \\\n",
       "0      True  ... -87.670000  (41.815117282, -87.669999562)   \n",
       "1     False  ... -87.765400  (41.895080471, -87.765400451)   \n",
       "2      True  ...        NaN                            NaN   \n",
       "3     False  ... -87.716650  (41.937405765, -87.716649687)   \n",
       "4      True  ... -87.755121  (41.881903443, -87.755121152)   \n",
       "\n",
       "   Historical Wards 2003-2015  Zip Codes Community Areas  Census Tracts  \\\n",
       "0                        29.0    14924.0            59.0          706.0   \n",
       "1                         4.0     4299.0            26.0          562.0   \n",
       "2                         NaN        NaN             NaN            NaN   \n",
       "3                        15.0    21538.0            22.0          216.0   \n",
       "4                        11.0    22216.0            26.0          696.0   \n",
       "\n",
       "   Wards  Boundaries - ZIP Codes Police Districts  Police Beats  \n",
       "0    3.0                    37.0             23.0         108.0  \n",
       "1   45.0                     5.0             25.0          67.0  \n",
       "2    NaN                     NaN              NaN           NaN  \n",
       "3   12.0                    39.0              7.0         168.0  \n",
       "4   23.0                    32.0             25.0          81.0  \n",
       "\n",
       "[5 rows x 30 columns]"
      ]
     },
     "execution_count": 3,
     "metadata": {},
     "output_type": "execute_result"
    }
   ],
   "source": [
    "df.head(5)"
   ]
  },
  {
   "cell_type": "markdown",
   "id": "e660af74",
   "metadata": {},
   "source": [
    "### Data Summary and Statistics"
   ]
  },
  {
   "cell_type": "code",
   "execution_count": 4,
   "id": "35d63b88",
   "metadata": {},
   "outputs": [
    {
     "data": {
      "text/plain": [
       "(1048575, 30)"
      ]
     },
     "execution_count": 4,
     "metadata": {},
     "output_type": "execute_result"
    }
   ],
   "source": [
    "df.shape"
   ]
  },
  {
   "cell_type": "code",
   "execution_count": 5,
   "id": "91c3b2f7",
   "metadata": {},
   "outputs": [
    {
     "name": "stdout",
     "output_type": "stream",
     "text": [
      "<class 'pandas.core.frame.DataFrame'>\n",
      "RangeIndex: 1048575 entries, 0 to 1048574\n",
      "Data columns (total 30 columns):\n",
      " #   Column                      Non-Null Count    Dtype  \n",
      "---  ------                      --------------    -----  \n",
      " 0   ID                          1048575 non-null  int64  \n",
      " 1   Case Number                 1048575 non-null  object \n",
      " 2   Date                        1048575 non-null  object \n",
      " 3   Block                       1048575 non-null  object \n",
      " 4   IUCR                        1048575 non-null  object \n",
      " 5   Primary Type                1048575 non-null  object \n",
      " 6   Description                 1048575 non-null  object \n",
      " 7   Location Description        1045453 non-null  object \n",
      " 8   Arrest                      1048575 non-null  bool   \n",
      " 9   Domestic                    1048575 non-null  bool   \n",
      " 10  Beat                        1048575 non-null  int64  \n",
      " 11  District                    1048574 non-null  float64\n",
      " 12  Ward                        1022287 non-null  float64\n",
      " 13  Community Area              1022399 non-null  float64\n",
      " 14  FBI Code                    1048575 non-null  object \n",
      " 15  X Coordinate                1043445 non-null  float64\n",
      " 16  Y Coordinate                1043445 non-null  float64\n",
      " 17  Year                        1048575 non-null  int64  \n",
      " 18  Updated On                  1048575 non-null  object \n",
      " 19  Latitude                    1043445 non-null  float64\n",
      " 20  Longitude                   1043445 non-null  float64\n",
      " 21  Location                    1043445 non-null  object \n",
      " 22  Historical Wards 2003-2015  1040972 non-null  float64\n",
      " 23  Zip Codes                   1043445 non-null  float64\n",
      " 24  Community Areas             1041421 non-null  float64\n",
      " 25  Census Tracts               1041510 non-null  float64\n",
      " 26  Wards                       1041439 non-null  float64\n",
      " 27  Boundaries - ZIP Codes      1041432 non-null  float64\n",
      " 28  Police Districts            1041553 non-null  float64\n",
      " 29  Police Beats                1041560 non-null  float64\n",
      "dtypes: bool(2), float64(15), int64(3), object(10)\n",
      "memory usage: 226.0+ MB\n"
     ]
    }
   ],
   "source": [
    "df.info()"
   ]
  },
  {
   "cell_type": "markdown",
   "id": "c3510b79",
   "metadata": {},
   "source": [
    "### Updating Date and Updated On to datetime"
   ]
  },
  {
   "cell_type": "code",
   "execution_count": 6,
   "id": "101e2847",
   "metadata": {},
   "outputs": [],
   "source": [
    "df['Date'] = pd.to_datetime(df['Date'])"
   ]
  },
  {
   "cell_type": "code",
   "execution_count": 7,
   "id": "6a7bf6e9",
   "metadata": {},
   "outputs": [],
   "source": [
    "df['Updated On'] = pd.to_datetime(df['Updated On'])"
   ]
  },
  {
   "cell_type": "raw",
   "id": "f623783c",
   "metadata": {},
   "source": [
    "#df['Year'] = pd.to_datetime(df['Year'])\n",
    "df['Year'] = df['Year'].astype(str)"
   ]
  },
  {
   "cell_type": "code",
   "execution_count": 8,
   "id": "a8cf69f7",
   "metadata": {
    "scrolled": true
   },
   "outputs": [
    {
     "name": "stdout",
     "output_type": "stream",
     "text": [
      "<class 'pandas.core.frame.DataFrame'>\n",
      "RangeIndex: 1048575 entries, 0 to 1048574\n",
      "Data columns (total 30 columns):\n",
      " #   Column                      Non-Null Count    Dtype         \n",
      "---  ------                      --------------    -----         \n",
      " 0   ID                          1048575 non-null  int64         \n",
      " 1   Case Number                 1048575 non-null  object        \n",
      " 2   Date                        1048575 non-null  datetime64[ns]\n",
      " 3   Block                       1048575 non-null  object        \n",
      " 4   IUCR                        1048575 non-null  object        \n",
      " 5   Primary Type                1048575 non-null  object        \n",
      " 6   Description                 1048575 non-null  object        \n",
      " 7   Location Description        1045453 non-null  object        \n",
      " 8   Arrest                      1048575 non-null  bool          \n",
      " 9   Domestic                    1048575 non-null  bool          \n",
      " 10  Beat                        1048575 non-null  int64         \n",
      " 11  District                    1048574 non-null  float64       \n",
      " 12  Ward                        1022287 non-null  float64       \n",
      " 13  Community Area              1022399 non-null  float64       \n",
      " 14  FBI Code                    1048575 non-null  object        \n",
      " 15  X Coordinate                1043445 non-null  float64       \n",
      " 16  Y Coordinate                1043445 non-null  float64       \n",
      " 17  Year                        1048575 non-null  int64         \n",
      " 18  Updated On                  1048575 non-null  datetime64[ns]\n",
      " 19  Latitude                    1043445 non-null  float64       \n",
      " 20  Longitude                   1043445 non-null  float64       \n",
      " 21  Location                    1043445 non-null  object        \n",
      " 22  Historical Wards 2003-2015  1040972 non-null  float64       \n",
      " 23  Zip Codes                   1043445 non-null  float64       \n",
      " 24  Community Areas             1041421 non-null  float64       \n",
      " 25  Census Tracts               1041510 non-null  float64       \n",
      " 26  Wards                       1041439 non-null  float64       \n",
      " 27  Boundaries - ZIP Codes      1041432 non-null  float64       \n",
      " 28  Police Districts            1041553 non-null  float64       \n",
      " 29  Police Beats                1041560 non-null  float64       \n",
      "dtypes: bool(2), datetime64[ns](2), float64(15), int64(3), object(8)\n",
      "memory usage: 226.0+ MB\n"
     ]
    }
   ],
   "source": [
    "df.info()"
   ]
  },
  {
   "cell_type": "code",
   "execution_count": 9,
   "id": "394ea862",
   "metadata": {},
   "outputs": [
    {
     "data": {
      "text/plain": [
       "0          2015\n",
       "1          2015\n",
       "2          2018\n",
       "3          2015\n",
       "4          2015\n",
       "           ... \n",
       "1048570    2001\n",
       "1048571    2001\n",
       "1048572    2001\n",
       "1048573    2002\n",
       "1048574    2015\n",
       "Name: Year, Length: 1048575, dtype: int64"
      ]
     },
     "execution_count": 9,
     "metadata": {},
     "output_type": "execute_result"
    }
   ],
   "source": [
    "df['Year']"
   ]
  },
  {
   "cell_type": "code",
   "execution_count": 10,
   "id": "6a418c73",
   "metadata": {},
   "outputs": [
    {
     "data": {
      "text/html": [
       "<div>\n",
       "<style scoped>\n",
       "    .dataframe tbody tr th:only-of-type {\n",
       "        vertical-align: middle;\n",
       "    }\n",
       "\n",
       "    .dataframe tbody tr th {\n",
       "        vertical-align: top;\n",
       "    }\n",
       "\n",
       "    .dataframe thead th {\n",
       "        text-align: right;\n",
       "    }\n",
       "</style>\n",
       "<table border=\"1\" class=\"dataframe\">\n",
       "  <thead>\n",
       "    <tr style=\"text-align: right;\">\n",
       "      <th></th>\n",
       "      <th>count</th>\n",
       "      <th>mean</th>\n",
       "      <th>std</th>\n",
       "      <th>min</th>\n",
       "      <th>25%</th>\n",
       "      <th>50%</th>\n",
       "      <th>75%</th>\n",
       "      <th>max</th>\n",
       "    </tr>\n",
       "  </thead>\n",
       "  <tbody>\n",
       "    <tr>\n",
       "      <th>ID</th>\n",
       "      <td>1048575.0</td>\n",
       "      <td>1.071738e+07</td>\n",
       "      <td>1.579825e+06</td>\n",
       "      <td>1007.000000</td>\n",
       "      <td>1.054160e+07</td>\n",
       "      <td>1.096404e+07</td>\n",
       "      <td>1.133601e+07</td>\n",
       "      <td>1.224939e+07</td>\n",
       "    </tr>\n",
       "    <tr>\n",
       "      <th>Beat</th>\n",
       "      <td>1048575.0</td>\n",
       "      <td>1.145116e+03</td>\n",
       "      <td>6.956343e+02</td>\n",
       "      <td>111.000000</td>\n",
       "      <td>6.120000e+02</td>\n",
       "      <td>1.031000e+03</td>\n",
       "      <td>1.713000e+03</td>\n",
       "      <td>2.535000e+03</td>\n",
       "    </tr>\n",
       "    <tr>\n",
       "      <th>District</th>\n",
       "      <td>1048574.0</td>\n",
       "      <td>1.120279e+01</td>\n",
       "      <td>6.945276e+00</td>\n",
       "      <td>1.000000</td>\n",
       "      <td>6.000000e+00</td>\n",
       "      <td>1.000000e+01</td>\n",
       "      <td>1.700000e+01</td>\n",
       "      <td>3.100000e+01</td>\n",
       "    </tr>\n",
       "    <tr>\n",
       "      <th>Ward</th>\n",
       "      <td>1022287.0</td>\n",
       "      <td>2.318474e+01</td>\n",
       "      <td>1.400825e+01</td>\n",
       "      <td>1.000000</td>\n",
       "      <td>1.000000e+01</td>\n",
       "      <td>2.400000e+01</td>\n",
       "      <td>3.400000e+01</td>\n",
       "      <td>5.000000e+01</td>\n",
       "    </tr>\n",
       "    <tr>\n",
       "      <th>Community Area</th>\n",
       "      <td>1022399.0</td>\n",
       "      <td>3.677907e+01</td>\n",
       "      <td>2.138824e+01</td>\n",
       "      <td>1.000000</td>\n",
       "      <td>2.300000e+01</td>\n",
       "      <td>3.200000e+01</td>\n",
       "      <td>5.400000e+01</td>\n",
       "      <td>7.700000e+01</td>\n",
       "    </tr>\n",
       "    <tr>\n",
       "      <th>X Coordinate</th>\n",
       "      <td>1043445.0</td>\n",
       "      <td>1.164802e+06</td>\n",
       "      <td>1.626177e+04</td>\n",
       "      <td>0.000000</td>\n",
       "      <td>1.153085e+06</td>\n",
       "      <td>1.166564e+06</td>\n",
       "      <td>1.176438e+06</td>\n",
       "      <td>1.205119e+06</td>\n",
       "    </tr>\n",
       "    <tr>\n",
       "      <th>Y Coordinate</th>\n",
       "      <td>1043445.0</td>\n",
       "      <td>1.886400e+06</td>\n",
       "      <td>3.126608e+04</td>\n",
       "      <td>0.000000</td>\n",
       "      <td>1.859328e+06</td>\n",
       "      <td>1.893573e+06</td>\n",
       "      <td>1.908825e+06</td>\n",
       "      <td>1.951535e+06</td>\n",
       "    </tr>\n",
       "    <tr>\n",
       "      <th>Year</th>\n",
       "      <td>1048575.0</td>\n",
       "      <td>2.016531e+03</td>\n",
       "      <td>2.786050e+00</td>\n",
       "      <td>2001.000000</td>\n",
       "      <td>2.016000e+03</td>\n",
       "      <td>2.017000e+03</td>\n",
       "      <td>2.018000e+03</td>\n",
       "      <td>2.020000e+03</td>\n",
       "    </tr>\n",
       "    <tr>\n",
       "      <th>Latitude</th>\n",
       "      <td>1043445.0</td>\n",
       "      <td>4.184387e+01</td>\n",
       "      <td>8.598864e-02</td>\n",
       "      <td>36.619446</td>\n",
       "      <td>4.176935e+01</td>\n",
       "      <td>4.186375e+01</td>\n",
       "      <td>4.190556e+01</td>\n",
       "      <td>4.202267e+01</td>\n",
       "    </tr>\n",
       "    <tr>\n",
       "      <th>Longitude</th>\n",
       "      <td>1043445.0</td>\n",
       "      <td>-8.767074e+01</td>\n",
       "      <td>5.917189e-02</td>\n",
       "      <td>-91.686566</td>\n",
       "      <td>-8.771326e+01</td>\n",
       "      <td>-8.766429e+01</td>\n",
       "      <td>-8.762786e+01</td>\n",
       "      <td>-8.752453e+01</td>\n",
       "    </tr>\n",
       "    <tr>\n",
       "      <th>Historical Wards 2003-2015</th>\n",
       "      <td>1040972.0</td>\n",
       "      <td>2.750648e+01</td>\n",
       "      <td>1.503161e+01</td>\n",
       "      <td>1.000000</td>\n",
       "      <td>1.500000e+01</td>\n",
       "      <td>2.700000e+01</td>\n",
       "      <td>4.100000e+01</td>\n",
       "      <td>5.300000e+01</td>\n",
       "    </tr>\n",
       "    <tr>\n",
       "      <th>Zip Codes</th>\n",
       "      <td>1043445.0</td>\n",
       "      <td>1.901928e+04</td>\n",
       "      <td>5.734312e+03</td>\n",
       "      <td>2733.000000</td>\n",
       "      <td>2.118200e+04</td>\n",
       "      <td>2.156000e+04</td>\n",
       "      <td>2.221600e+04</td>\n",
       "      <td>2.691200e+04</td>\n",
       "    </tr>\n",
       "    <tr>\n",
       "      <th>Community Areas</th>\n",
       "      <td>1041421.0</td>\n",
       "      <td>3.867833e+01</td>\n",
       "      <td>1.971364e+01</td>\n",
       "      <td>1.000000</td>\n",
       "      <td>2.500000e+01</td>\n",
       "      <td>3.700000e+01</td>\n",
       "      <td>5.700000e+01</td>\n",
       "      <td>7.700000e+01</td>\n",
       "    </tr>\n",
       "    <tr>\n",
       "      <th>Census Tracts</th>\n",
       "      <td>1041510.0</td>\n",
       "      <td>3.792172e+02</td>\n",
       "      <td>2.327680e+02</td>\n",
       "      <td>1.000000</td>\n",
       "      <td>1.670000e+02</td>\n",
       "      <td>3.750000e+02</td>\n",
       "      <td>5.800000e+02</td>\n",
       "      <td>8.010000e+02</td>\n",
       "    </tr>\n",
       "    <tr>\n",
       "      <th>Wards</th>\n",
       "      <td>1041439.0</td>\n",
       "      <td>2.589168e+01</td>\n",
       "      <td>1.445836e+01</td>\n",
       "      <td>1.000000</td>\n",
       "      <td>1.300000e+01</td>\n",
       "      <td>2.700000e+01</td>\n",
       "      <td>3.700000e+01</td>\n",
       "      <td>5.000000e+01</td>\n",
       "    </tr>\n",
       "    <tr>\n",
       "      <th>Boundaries - ZIP Codes</th>\n",
       "      <td>1041432.0</td>\n",
       "      <td>3.185443e+01</td>\n",
       "      <td>1.902804e+01</td>\n",
       "      <td>1.000000</td>\n",
       "      <td>1.600000e+01</td>\n",
       "      <td>3.000000e+01</td>\n",
       "      <td>5.200000e+01</td>\n",
       "      <td>6.100000e+01</td>\n",
       "    </tr>\n",
       "    <tr>\n",
       "      <th>Police Districts</th>\n",
       "      <td>1041553.0</td>\n",
       "      <td>1.500999e+01</td>\n",
       "      <td>6.399011e+00</td>\n",
       "      <td>1.000000</td>\n",
       "      <td>1.000000e+01</td>\n",
       "      <td>1.600000e+01</td>\n",
       "      <td>2.000000e+01</td>\n",
       "      <td>2.500000e+01</td>\n",
       "    </tr>\n",
       "    <tr>\n",
       "      <th>Police Beats</th>\n",
       "      <td>1041560.0</td>\n",
       "      <td>1.485312e+02</td>\n",
       "      <td>7.790204e+01</td>\n",
       "      <td>1.000000</td>\n",
       "      <td>8.200000e+01</td>\n",
       "      <td>1.490000e+02</td>\n",
       "      <td>2.200000e+02</td>\n",
       "      <td>2.770000e+02</td>\n",
       "    </tr>\n",
       "  </tbody>\n",
       "</table>\n",
       "</div>"
      ],
      "text/plain": [
       "                                count          mean           std  \\\n",
       "ID                          1048575.0  1.071738e+07  1.579825e+06   \n",
       "Beat                        1048575.0  1.145116e+03  6.956343e+02   \n",
       "District                    1048574.0  1.120279e+01  6.945276e+00   \n",
       "Ward                        1022287.0  2.318474e+01  1.400825e+01   \n",
       "Community Area              1022399.0  3.677907e+01  2.138824e+01   \n",
       "X Coordinate                1043445.0  1.164802e+06  1.626177e+04   \n",
       "Y Coordinate                1043445.0  1.886400e+06  3.126608e+04   \n",
       "Year                        1048575.0  2.016531e+03  2.786050e+00   \n",
       "Latitude                    1043445.0  4.184387e+01  8.598864e-02   \n",
       "Longitude                   1043445.0 -8.767074e+01  5.917189e-02   \n",
       "Historical Wards 2003-2015  1040972.0  2.750648e+01  1.503161e+01   \n",
       "Zip Codes                   1043445.0  1.901928e+04  5.734312e+03   \n",
       "Community Areas             1041421.0  3.867833e+01  1.971364e+01   \n",
       "Census Tracts               1041510.0  3.792172e+02  2.327680e+02   \n",
       "Wards                       1041439.0  2.589168e+01  1.445836e+01   \n",
       "Boundaries - ZIP Codes      1041432.0  3.185443e+01  1.902804e+01   \n",
       "Police Districts            1041553.0  1.500999e+01  6.399011e+00   \n",
       "Police Beats                1041560.0  1.485312e+02  7.790204e+01   \n",
       "\n",
       "                                    min           25%           50%  \\\n",
       "ID                          1007.000000  1.054160e+07  1.096404e+07   \n",
       "Beat                         111.000000  6.120000e+02  1.031000e+03   \n",
       "District                       1.000000  6.000000e+00  1.000000e+01   \n",
       "Ward                           1.000000  1.000000e+01  2.400000e+01   \n",
       "Community Area                 1.000000  2.300000e+01  3.200000e+01   \n",
       "X Coordinate                   0.000000  1.153085e+06  1.166564e+06   \n",
       "Y Coordinate                   0.000000  1.859328e+06  1.893573e+06   \n",
       "Year                        2001.000000  2.016000e+03  2.017000e+03   \n",
       "Latitude                      36.619446  4.176935e+01  4.186375e+01   \n",
       "Longitude                    -91.686566 -8.771326e+01 -8.766429e+01   \n",
       "Historical Wards 2003-2015     1.000000  1.500000e+01  2.700000e+01   \n",
       "Zip Codes                   2733.000000  2.118200e+04  2.156000e+04   \n",
       "Community Areas                1.000000  2.500000e+01  3.700000e+01   \n",
       "Census Tracts                  1.000000  1.670000e+02  3.750000e+02   \n",
       "Wards                          1.000000  1.300000e+01  2.700000e+01   \n",
       "Boundaries - ZIP Codes         1.000000  1.600000e+01  3.000000e+01   \n",
       "Police Districts               1.000000  1.000000e+01  1.600000e+01   \n",
       "Police Beats                   1.000000  8.200000e+01  1.490000e+02   \n",
       "\n",
       "                                     75%           max  \n",
       "ID                          1.133601e+07  1.224939e+07  \n",
       "Beat                        1.713000e+03  2.535000e+03  \n",
       "District                    1.700000e+01  3.100000e+01  \n",
       "Ward                        3.400000e+01  5.000000e+01  \n",
       "Community Area              5.400000e+01  7.700000e+01  \n",
       "X Coordinate                1.176438e+06  1.205119e+06  \n",
       "Y Coordinate                1.908825e+06  1.951535e+06  \n",
       "Year                        2.018000e+03  2.020000e+03  \n",
       "Latitude                    4.190556e+01  4.202267e+01  \n",
       "Longitude                  -8.762786e+01 -8.752453e+01  \n",
       "Historical Wards 2003-2015  4.100000e+01  5.300000e+01  \n",
       "Zip Codes                   2.221600e+04  2.691200e+04  \n",
       "Community Areas             5.700000e+01  7.700000e+01  \n",
       "Census Tracts               5.800000e+02  8.010000e+02  \n",
       "Wards                       3.700000e+01  5.000000e+01  \n",
       "Boundaries - ZIP Codes      5.200000e+01  6.100000e+01  \n",
       "Police Districts            2.000000e+01  2.500000e+01  \n",
       "Police Beats                2.200000e+02  2.770000e+02  "
      ]
     },
     "execution_count": 10,
     "metadata": {},
     "output_type": "execute_result"
    }
   ],
   "source": [
    "df.describe().transpose()"
   ]
  },
  {
   "cell_type": "code",
   "execution_count": 11,
   "id": "a2c2c347",
   "metadata": {
    "scrolled": true
   },
   "outputs": [
    {
     "data": {
      "text/plain": [
       "Ward                          26288\n",
       "Community Area                26176\n",
       "Historical Wards 2003-2015     7603\n",
       "Community Areas                7154\n",
       "Boundaries - ZIP Codes         7143\n",
       "Wards                          7136\n",
       "Census Tracts                  7065\n",
       "Police Districts               7022\n",
       "Police Beats                   7015\n",
       "Y Coordinate                   5130\n",
       "Zip Codes                      5130\n",
       "Location                       5130\n",
       "Longitude                      5130\n",
       "Latitude                       5130\n",
       "X Coordinate                   5130\n",
       "Location Description           3122\n",
       "District                          1\n",
       "Case Number                       0\n",
       "FBI Code                          0\n",
       "Year                              0\n",
       "Updated On                        0\n",
       "Beat                              0\n",
       "Domestic                          0\n",
       "Arrest                            0\n",
       "Description                       0\n",
       "Primary Type                      0\n",
       "IUCR                              0\n",
       "Block                             0\n",
       "Date                              0\n",
       "ID                                0\n",
       "dtype: int64"
      ]
     },
     "execution_count": 11,
     "metadata": {},
     "output_type": "execute_result"
    }
   ],
   "source": [
    "df.isna().sum().sort_values(ascending=False)"
   ]
  },
  {
   "cell_type": "code",
   "execution_count": 12,
   "id": "06e26857",
   "metadata": {},
   "outputs": [],
   "source": [
    "import altair as alt"
   ]
  },
  {
   "cell_type": "code",
   "execution_count": 13,
   "id": "e68168d0",
   "metadata": {},
   "outputs": [],
   "source": [
    "column_list = list(df.keys())"
   ]
  },
  {
   "cell_type": "code",
   "execution_count": 14,
   "id": "f0cc0a32",
   "metadata": {
    "scrolled": true
   },
   "outputs": [
    {
     "data": {
      "text/plain": [
       "['ID',\n",
       " 'Case Number',\n",
       " 'Date',\n",
       " 'Block',\n",
       " 'IUCR',\n",
       " 'Primary Type',\n",
       " 'Description',\n",
       " 'Location Description',\n",
       " 'Arrest',\n",
       " 'Domestic',\n",
       " 'Beat',\n",
       " 'District',\n",
       " 'Ward',\n",
       " 'Community Area',\n",
       " 'FBI Code',\n",
       " 'X Coordinate',\n",
       " 'Y Coordinate',\n",
       " 'Year',\n",
       " 'Updated On',\n",
       " 'Latitude',\n",
       " 'Longitude',\n",
       " 'Location',\n",
       " 'Historical Wards 2003-2015',\n",
       " 'Zip Codes',\n",
       " 'Community Areas',\n",
       " 'Census Tracts',\n",
       " 'Wards',\n",
       " 'Boundaries - ZIP Codes',\n",
       " 'Police Districts',\n",
       " 'Police Beats']"
      ]
     },
     "execution_count": 14,
     "metadata": {},
     "output_type": "execute_result"
    }
   ],
   "source": [
    "column_list"
   ]
  },
  {
   "cell_type": "markdown",
   "id": "cbe881c7",
   "metadata": {},
   "source": [
    "#### Checking the columns we are concerned about"
   ]
  },
  {
   "cell_type": "code",
   "execution_count": 15,
   "id": "4792a5e5",
   "metadata": {},
   "outputs": [
    {
     "data": {
      "text/plain": [
       "array([[<AxesSubplot:title={'center':'ID'}>,\n",
       "        <AxesSubplot:title={'center':'Date'}>,\n",
       "        <AxesSubplot:title={'center':'Beat'}>,\n",
       "        <AxesSubplot:title={'center':'District'}>],\n",
       "       [<AxesSubplot:title={'center':'Ward'}>,\n",
       "        <AxesSubplot:title={'center':'Community Area'}>,\n",
       "        <AxesSubplot:title={'center':'X Coordinate'}>,\n",
       "        <AxesSubplot:title={'center':'Y Coordinate'}>],\n",
       "       [<AxesSubplot:title={'center':'Year'}>,\n",
       "        <AxesSubplot:title={'center':'Updated On'}>,\n",
       "        <AxesSubplot:title={'center':'Latitude'}>,\n",
       "        <AxesSubplot:title={'center':'Longitude'}>],\n",
       "       [<AxesSubplot:title={'center':'Historical Wards 2003-2015'}>,\n",
       "        <AxesSubplot:title={'center':'Zip Codes'}>,\n",
       "        <AxesSubplot:title={'center':'Community Areas'}>,\n",
       "        <AxesSubplot:title={'center':'Census Tracts'}>],\n",
       "       [<AxesSubplot:title={'center':'Wards'}>,\n",
       "        <AxesSubplot:title={'center':'Boundaries - ZIP Codes'}>,\n",
       "        <AxesSubplot:title={'center':'Police Districts'}>,\n",
       "        <AxesSubplot:title={'center':'Police Beats'}>]], dtype=object)"
      ]
     },
     "execution_count": 15,
     "metadata": {},
     "output_type": "execute_result"
    },
    {
     "data": {
      "image/png": "[encoded data removed]",
      "text/plain": [
       "<Figure size 1080x1440 with 20 Axes>"
      ]
     },
     "metadata": {
      "needs_background": "light"
     },
     "output_type": "display_data"
    }
   ],
   "source": [
    "df.hist(figsize = (15,20))"
   ]
  },
  {
   "cell_type": "code",
   "execution_count": 16,
   "id": "d0635332",
   "metadata": {},
   "outputs": [
    {
     "data": {
      "text/plain": [
       "array([2015, 2018, 2016, 2014, 2001, 2020, 2019, 2012, 2017, 2013, 2011,\n",
       "       2007, 2003, 2010, 2008, 2009, 2002, 2005, 2006, 2004], dtype=int64)"
      ]
     },
     "execution_count": 16,
     "metadata": {},
     "output_type": "execute_result"
    }
   ],
   "source": [
    "df['Year'].unique()"
   ]
  },
  {
   "cell_type": "code",
   "execution_count": 17,
   "id": "682cd69e",
   "metadata": {},
   "outputs": [
    {
     "data": {
      "text/plain": [
       "array(['BATTERY', 'THEFT', 'NARCOTICS', 'ASSAULT', 'BURGLARY', 'ROBBERY',\n",
       "       'DECEPTIVE PRACTICE', 'OTHER OFFENSE', 'CRIMINAL DAMAGE',\n",
       "       'WEAPONS VIOLATION', 'CRIMINAL TRESPASS', 'MOTOR VEHICLE THEFT',\n",
       "       'SEX OFFENSE', 'INTERFERENCE WITH PUBLIC OFFICER',\n",
       "       'OFFENSE INVOLVING CHILDREN', 'PUBLIC PEACE VIOLATION',\n",
       "       'PROSTITUTION', 'GAMBLING', 'CRIM SEXUAL ASSAULT',\n",
       "       'LIQUOR LAW VIOLATION', 'CRIMINAL SEXUAL ASSAULT', 'ARSON',\n",
       "       'STALKING', 'KIDNAPPING', 'INTIMIDATION', 'HOMICIDE',\n",
       "       'CONCEALED CARRY LICENSE VIOLATION', 'NON - CRIMINAL',\n",
       "       'HUMAN TRAFFICKING', 'OBSCENITY', 'PUBLIC INDECENCY',\n",
       "       'OTHER NARCOTIC VIOLATION', 'NON-CRIMINAL',\n",
       "       'NON-CRIMINAL (SUBJECT SPECIFIED)', 'RITUALISM'], dtype=object)"
      ]
     },
     "execution_count": 17,
     "metadata": {},
     "output_type": "execute_result"
    }
   ],
   "source": [
    "df['Primary Type'].unique()"
   ]
  },
  {
   "cell_type": "code",
   "execution_count": 18,
   "id": "2201614e",
   "metadata": {
    "scrolled": true
   },
   "outputs": [
    {
     "data": {
      "text/plain": [
       "array(['RESIDENCE', 'CTA BUS', 'SIDEWALK', 'APARTMENT',\n",
       "       'RESIDENCE-GARAGE', 'GROCERY FOOD STORE', 'STREET', nan,\n",
       "       'PARKING LOT/GARAGE(NON.RESID.)', 'SMALL RETAIL STORE', 'OTHER',\n",
       "       'VEHICLE NON-COMMERCIAL', 'RESTAURANT', 'RESIDENCE PORCH/HALLWAY',\n",
       "       'ALLEY', 'POLICE FACILITY/VEH PARKING LOT', 'LIBRARY',\n",
       "       'ATHLETIC CLUB', 'DRUG STORE', 'PARK PROPERTY',\n",
       "       'CHA PARKING LOT/GROUNDS', 'NURSING HOME/RETIREMENT HOME',\n",
       "       'DRIVEWAY - RESIDENTIAL', 'RESIDENTIAL YARD (FRONT/BACK)',\n",
       "       'COMMERCIAL / BUSINESS OFFICE', 'DEPARTMENT STORE', 'HOTEL/MOTEL',\n",
       "       'GAS STATION', 'BAR OR TAVERN',\n",
       "       'CHURCH/SYNAGOGUE/PLACE OF WORSHIP', 'SPORTS ARENA/STADIUM',\n",
       "       'CONSTRUCTION SITE', 'HOSPITAL BUILDING/GROUNDS', 'CTA STATION',\n",
       "       'TAVERN/LIQUOR STORE', 'CHA HALLWAY/STAIRWELL/ELEVATOR',\n",
       "       'CONVENIENCE STORE', 'WAREHOUSE', 'VACANT LOT/LAND',\n",
       "       'CTA BUS STOP', 'CHA APARTMENT', 'TAXICAB', 'CTA TRAIN',\n",
       "       'APPLIANCE STORE', 'BARBERSHOP', 'BANK', 'SCHOOL, PUBLIC, GROUNDS',\n",
       "       'FACTORY/MANUFACTURING BUILDING', 'CAR WASH',\n",
       "       'CTA GARAGE / OTHER PROPERTY', 'OTHER (SPECIFY)',\n",
       "       'DAY CARE CENTER', 'SCHOOL, PUBLIC, BUILDING',\n",
       "       'AIRPORT TERMINAL UPPER LEVEL - SECURE AREA',\n",
       "       'JAIL / LOCK-UP FACILITY', 'SCHOOL, PRIVATE, BUILDING',\n",
       "       'AIRPORT BUILDING NON-TERMINAL - SECURE AREA',\n",
       "       'VEHICLE-COMMERCIAL', 'ABANDONED BUILDING',\n",
       "       'GOVERNMENT BUILDING/PROPERTY',\n",
       "       'AIRPORT TERMINAL UPPER LEVEL - NON-SECURE AREA',\n",
       "       'COLLEGE/UNIVERSITY GROUNDS', 'CTA PLATFORM',\n",
       "       'AIRPORT TERMINAL LOWER LEVEL - NON-SECURE AREA',\n",
       "       'ANIMAL HOSPITAL', 'AUTO / BOAT / RV DEALERSHIP',\n",
       "       'OTHER RAILROAD PROP / TRAIN DEPOT', 'POOL ROOM',\n",
       "       'VEHICLE - OTHER RIDE SERVICE',\n",
       "       'AIRPORT TERMINAL LOWER LEVEL - SECURE AREA',\n",
       "       'AIRPORT VENDING ESTABLISHMENT', 'BOAT/WATERCRAFT',\n",
       "       'AIRPORT EXTERIOR - SECURE AREA', 'ATM (AUTOMATIC TELLER MACHINE)',\n",
       "       'AIRCRAFT', 'OTHER COMMERCIAL TRANSPORTATION',\n",
       "       'MEDICAL/DENTAL OFFICE', 'CURRENCY EXCHANGE',\n",
       "       'AIRPORT PARKING LOT', 'AIRPORT EXTERIOR - NON-SECURE AREA',\n",
       "       'AIRPORT/AIRCRAFT',\n",
       "       'VEHICLE - OTHER RIDE SHARE SERVICE (E.G., UBER, LYFT)',\n",
       "       'AIRPORT BUILDING NON-TERMINAL - NON-SECURE AREA',\n",
       "       'CLEANING STORE', 'AIRPORT TERMINAL MEZZANINE - NON-SECURE AREA',\n",
       "       'FIRE STATION', 'SCHOOL, PRIVATE, GROUNDS', 'FOREST PRESERVE',\n",
       "       'AIRPORT TRANSPORTATION SYSTEM (ATS)', 'PAWN SHOP', 'CREDIT UNION',\n",
       "       'PARKING LOT / GARAGE (NON RESIDENTIAL)', 'MOVIE HOUSE/THEATER',\n",
       "       'SAVINGS AND LOAN', 'POLICE FACILITY / VEHICLE PARKING LOT',\n",
       "       'VACANT LOT', 'COLLEGE/UNIVERSITY RESIDENCE HALL',\n",
       "       'HIGHWAY/EXPRESSWAY', 'CTA TRACKS - RIGHT OF WAY',\n",
       "       'VEHICLE - COMMERCIAL', 'BRIDGE', 'HOUSE',\n",
       "       'LAKEFRONT/WATERFRONT/RIVERBANK', 'VEHICLE - DELIVERY TRUCK',\n",
       "       'COIN OPERATED MACHINE', 'FEDERAL BUILDING', 'BOWLING ALLEY',\n",
       "       'NEWSSTAND', 'RESIDENCE - GARAGE', 'HOSPITAL BUILDING / GROUNDS',\n",
       "       'RESIDENCE - PORCH / HALLWAY',\n",
       "       'CHA HALLWAY / STAIRWELL / ELEVATOR',\n",
       "       'VEHICLE - OTHER RIDE SHARE SERVICE (LYFT, UBER, ETC.)',\n",
       "       'VACANT LOT / LAND', 'RESIDENCE - YARD (FRONT / BACK)',\n",
       "       'FACTORY / MANUFACTURING BUILDING', 'SCHOOL - PUBLIC BUILDING',\n",
       "       'MOVIE HOUSE / THEATER', 'CHA PARKING LOT / GROUNDS',\n",
       "       'HOTEL / MOTEL', 'AUTO', 'NURSING / RETIREMENT HOME', 'CEMETARY',\n",
       "       'GOVERNMENT BUILDING / PROPERTY', 'CHA HALLWAY',\n",
       "       'SCHOOL - PRIVATE BUILDING', 'CHA GROUNDS', 'PARKING LOT', 'YARD',\n",
       "       'COUNTY JAIL', 'PORCH', 'CHURCH / SYNAGOGUE / PLACE OF WORSHIP',\n",
       "       'OTHER RAILROAD PROPERTY / TRAIN DEPOT', 'TAVERN / LIQUOR STORE',\n",
       "       'GANGWAY', 'LAKEFRONT / WATERFRONT / RIVERBANK', 'STAIRWELL',\n",
       "       'TAVERN', 'MEDICAL / DENTAL OFFICE', 'HALLWAY',\n",
       "       'SCHOOL - PUBLIC GROUNDS', 'COACH HOUSE',\n",
       "       'VEHICLE-COMMERCIAL - TROLLEY BUS',\n",
       "       'VEHICLE-COMMERCIAL - ENTERTAINMENT/PARTY BUS', 'HORSE STABLE',\n",
       "       'FARM', 'COLLEGE / UNIVERSITY - GROUNDS', 'DUMPSTER',\n",
       "       'SCHOOL - PRIVATE GROUNDS', 'SPORTS ARENA / STADIUM',\n",
       "       'COLLEGE / UNIVERSITY - RESIDENCE HALL', 'KENNEL', 'BASEMENT',\n",
       "       'CTA PARKING LOT / GARAGE / OTHER PROPERTY',\n",
       "       'HIGHWAY / EXPRESSWAY', 'GARAGE/AUTO REPAIR', 'DELIVERY TRUCK',\n",
       "       'CHURCH', 'CHA BREEZEWAY', 'CHA PARKING LOT', 'CHA STAIRWELL',\n",
       "       'CHURCH PROPERTY', 'CLUB', 'CHA ELEVATOR'], dtype=object)"
      ]
     },
     "execution_count": 18,
     "metadata": {},
     "output_type": "execute_result"
    }
   ],
   "source": [
    "df['Location Description'].unique()"
   ]
  },
  {
   "cell_type": "code",
   "execution_count": 19,
   "id": "a1454b13",
   "metadata": {},
   "outputs": [],
   "source": [
    "#df['Location Description'].unique()"
   ]
  },
  {
   "cell_type": "code",
   "execution_count": 20,
   "id": "6c13906e",
   "metadata": {},
   "outputs": [
    {
     "name": "stdout",
     "output_type": "stream",
     "text": [
      "True\n"
     ]
    }
   ],
   "source": [
    "print('CHURCH PROPERTY' in df['Location Description'].unique())"
   ]
  },
  {
   "cell_type": "code",
   "execution_count": 21,
   "id": "3e3dae9e",
   "metadata": {},
   "outputs": [
    {
     "name": "stdout",
     "output_type": "stream",
     "text": [
      "no\n"
     ]
    }
   ],
   "source": [
    "if \"SCHOOL\" in df['Location Description']:\n",
    "    print(\"Yes\")\n",
    "else:\n",
    "    print(\"no\")"
   ]
  },
  {
   "cell_type": "code",
   "execution_count": 22,
   "id": "f91aae6c",
   "metadata": {},
   "outputs": [
    {
     "name": "stderr",
     "output_type": "stream",
     "text": [
      "<ipython-input-22-35319e8b216f>:1: FutureWarning: The pandas.np module is deprecated and will be removed from pandas in a future version. Import numpy directly instead.\n",
      "  df['Location Description Modified'] = pd.np.where(df['Location Description'].str.contains(\"SCHOOL\"), \"SCHOOL\",\n",
      "<ipython-input-22-35319e8b216f>:2: FutureWarning: The pandas.np module is deprecated and will be removed from pandas in a future version. Import numpy directly instead.\n",
      "  pd.np.where(df['Location Description'].str.contains(\"VEHICLE\"), \"VEHICLE\",\n",
      "<ipython-input-22-35319e8b216f>:3: FutureWarning: The pandas.np module is deprecated and will be removed from pandas in a future version. Import numpy directly instead.\n",
      "  pd.np.where(df['Location Description'].str.contains(\"APARTMENT\"), \"RESIDENCE\",\n",
      "<ipython-input-22-35319e8b216f>:4: FutureWarning: The pandas.np module is deprecated and will be removed from pandas in a future version. Import numpy directly instead.\n",
      "  pd.np.where(df['Location Description'].str.contains(\"PARKING\"), \"PARKING\",\n",
      "<ipython-input-22-35319e8b216f>:5: FutureWarning: The pandas.np module is deprecated and will be removed from pandas in a future version. Import numpy directly instead.\n",
      "  pd.np.where(df['Location Description'].str.contains(\"SIDEWALK\"), \"SIDEWALK\",\n",
      "<ipython-input-22-35319e8b216f>:6: FutureWarning: The pandas.np module is deprecated and will be removed from pandas in a future version. Import numpy directly instead.\n",
      "  pd.np.where(df['Location Description'].str.contains(\"LIBRARY\"), \"LIBRARY\",\n",
      "<ipython-input-22-35319e8b216f>:7: FutureWarning: The pandas.np module is deprecated and will be removed from pandas in a future version. Import numpy directly instead.\n",
      "  pd.np.where(df['Location Description'].str.contains(\"AIRPORT\"), \"AIRPORT\",\n",
      "<ipython-input-22-35319e8b216f>:8: FutureWarning: The pandas.np module is deprecated and will be removed from pandas in a future version. Import numpy directly instead.\n",
      "  pd.np.where(df['Location Description'].str.contains(\"OFFICE\"), \"OFFICE\",\n",
      "<ipython-input-22-35319e8b216f>:9: FutureWarning: The pandas.np module is deprecated and will be removed from pandas in a future version. Import numpy directly instead.\n",
      "  pd.np.where(df['Location Description'].str.contains(\"STREET\"), \"STREET\",\n",
      "<ipython-input-22-35319e8b216f>:10: FutureWarning: The pandas.np module is deprecated and will be removed from pandas in a future version. Import numpy directly instead.\n",
      "  pd.np.where(df['Location Description'].str.contains(\"RESIDENTIAL\"), \"RESIDENCE\",\n",
      "<ipython-input-22-35319e8b216f>:11: FutureWarning: The pandas.np module is deprecated and will be removed from pandas in a future version. Import numpy directly instead.\n",
      "  pd.np.where(df['Location Description'].str.contains(\"RESIDENCE\"), \"RESIDENCE\", \"OTHER\")))))))))))\n"
     ]
    }
   ],
   "source": [
    "df['Location Description Modified'] = pd.np.where(df['Location Description'].str.contains(\"SCHOOL\"), \"SCHOOL\",\n",
    "                               pd.np.where(df['Location Description'].str.contains(\"VEHICLE\"), \"VEHICLE\",\n",
    "                                pd.np.where(df['Location Description'].str.contains(\"APARTMENT\"), \"RESIDENCE\",\n",
    "                                pd.np.where(df['Location Description'].str.contains(\"PARKING\"), \"PARKING\",\n",
    "                                pd.np.where(df['Location Description'].str.contains(\"SIDEWALK\"), \"SIDEWALK\",\n",
    "                                pd.np.where(df['Location Description'].str.contains(\"LIBRARY\"), \"LIBRARY\",\n",
    "                                pd.np.where(df['Location Description'].str.contains(\"AIRPORT\"), \"AIRPORT\",\n",
    "                                pd.np.where(df['Location Description'].str.contains(\"OFFICE\"), \"OFFICE\",\n",
    "                                pd.np.where(df['Location Description'].str.contains(\"STREET\"), \"STREET\",\n",
    "                                pd.np.where(df['Location Description'].str.contains(\"RESIDENTIAL\"), \"RESIDENCE\",\n",
    "                               pd.np.where(df['Location Description'].str.contains(\"RESIDENCE\"), \"RESIDENCE\", \"OTHER\")))))))))))"
   ]
  },
  {
   "cell_type": "code",
   "execution_count": 23,
   "id": "8b946228",
   "metadata": {},
   "outputs": [
    {
     "data": {
      "text/plain": [
       "10"
      ]
     },
     "execution_count": 23,
     "metadata": {},
     "output_type": "execute_result"
    }
   ],
   "source": [
    "df['Location Description Modified'].nunique()"
   ]
  },
  {
   "cell_type": "raw",
   "id": "82a67479",
   "metadata": {},
   "source": [
    "df['Year'] = pd.to_datetime(df['Year'])"
   ]
  },
  {
   "cell_type": "raw",
   "id": "2d8dc633",
   "metadata": {},
   "source": [
    "df['Year']"
   ]
  },
  {
   "cell_type": "code",
   "execution_count": 24,
   "id": "e1bc2b2c",
   "metadata": {
    "scrolled": true
   },
   "outputs": [],
   "source": [
    "df.to_csv(\"Crime_2001_data_prepared.csv\")"
   ]
  },
  {
   "cell_type": "code",
   "execution_count": 26,
   "id": "01e606cb",
   "metadata": {},
   "outputs": [
    {
     "data": {
      "text/plain": [
       "pandas.core.series.Series"
      ]
     },
     "execution_count": 26,
     "metadata": {},
     "output_type": "execute_result"
    }
   ],
   "source": [
    "type(df['Latitude'])"
   ]
  },
  {
   "cell_type": "code",
   "execution_count": null,
   "id": "061d1d07",
   "metadata": {},
   "outputs": [],
   "source": []
  }
 ],
 "metadata": {
  "kernelspec": {
   "display_name": "Python 3",
   "language": "python",
   "name": "python3"
  },
  "language_info": {
   "codemirror_mode": {
    "name": "ipython",
    "version": 3
   },
   "file_extension": ".py",
   "mimetype": "text/x-python",
   "name": "python",
   "nbconvert_exporter": "python",
   "pygments_lexer": "ipython3",
   "version": "3.8.8"
  }
 },
 "nbformat": 4,
 "nbformat_minor": 5
}
